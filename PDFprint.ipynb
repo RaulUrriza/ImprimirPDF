{
  "nbformat": 4,
  "nbformat_minor": 0,
  "metadata": {
    "colab": {
      "provenance": [],
      "collapsed_sections": []
    },
    "kernelspec": {
      "name": "python3",
      "display_name": "Python 3"
    },
    "language_info": {
      "name": "python"
    }
  },
  "cells": [
    {
      "cell_type": "code",
      "execution_count": 2,
      "metadata": {
        "id": "5cBQw75OgVVP"
      },
      "outputs": [],
      "source": [
        "def colab_pdf(file_name, notebookpath=\"/content/drive/MyDrive/Colab Notebooks/\"):\n",
        "    import os\n",
        "\n",
        "    # Checking if file_name passed is a string.\n",
        "    if not isinstance(file_name, str):\n",
        "        raise TypeError(\n",
        "            f\"expected a string as file_name, but got {type(file_name)} instead.\"\n",
        "        )\n",
        "\n",
        "    # Using the defaults used by google.colab\n",
        "    drive_mount_point = \"/content/drive/\"\n",
        "    gdrive_home = os.path.join(drive_mount_point, \"My Drive/\")\n",
        "\n",
        "    # If the drive is not already mounted, attempt to mount it.\n",
        "    if not os.path.isdir(gdrive_home):\n",
        "        from google.colab import drive\n",
        "\n",
        "        drive.mount(drive_mount_point)\n",
        "\n",
        "    # Check if the notebook exists in the Drive.\n",
        "    if not os.path.isfile(os.path.join(notebookpath, file_name)):\n",
        "        raise ValueError(f\"file '{file_name}' not found in path '{notebookpath}'.\")\n",
        "\n",
        "    # Installing all the recommended packages.\n",
        "    get_ipython().system(\n",
        "        \"apt update >> /dev/null && apt install texlive-xetex texlive-fonts-recommended texlive-generic-recommended >> /dev/null\"\n",
        "    )\n",
        "\n",
        "    # If pdf with the same name exists, remove it.\n",
        "    pdf_file = os.path.join(gdrive_home, file_name.split(\".\")[0] + \".pdf\")\n",
        "    \n",
        "    if os.path.isfile(pdf_file):\n",
        "        os.remove(pdf_file)\n",
        "\n",
        "    # Attempt to convert to pdf and save it in Gdrive home dir using jupyter nbconvert command.\n",
        "    try:\n",
        "        get_ipython().system(\n",
        "            \"jupyter nbconvert --output-dir='$gdrive_home' '$notebookpath''$file_name' --to pdf\"\n",
        "        )\n",
        "    except:\n",
        "        return \"nbconvert error\"\n",
        "\n",
        "    # Attempt to download the file to system.\n",
        "    try:\n",
        "        from google.colab import files\n",
        "\n",
        "        file_name = file_name.split(\".\")[0] + \".pdf\"\n",
        "        files.download(gdrive_home + file_name)\n",
        "    except:\n",
        "        return \"File Download Unsuccessful. Saved in Google Drive\"\n",
        "\n",
        "    return \"File ready to be Downloaded and Saved to Drive\""
      ]
    }
  ]
}